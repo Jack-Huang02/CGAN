{
 "cells": [
  {
   "cell_type": "code",
   "execution_count": 37,
   "metadata": {},
   "outputs": [],
   "source": [
    "import torch"
   ]
  },
  {
   "cell_type": "code",
   "execution_count": 38,
   "metadata": {},
   "outputs": [
    {
     "name": "stdout",
     "output_type": "stream",
     "text": [
      "tensor([0, 0, 0, 0, 0, 0, 0, 0, 0, 0, 1, 1, 1, 1, 1, 1, 1, 1, 1, 1, 2, 2, 2, 2,\n",
      "        2, 2, 2, 2, 2, 2, 3, 3, 3, 3, 3, 3, 3, 3, 3, 3, 4, 4, 4, 4, 4, 4, 4, 4,\n",
      "        4, 4, 5, 5, 5, 5, 5, 5, 5, 5, 5, 5, 6, 6, 6, 6, 6, 6, 6, 6, 6, 6, 7, 7,\n",
      "        7, 7, 7, 7, 7, 7, 7, 7, 8, 8, 8, 8, 8, 8, 8, 8, 8, 8, 9, 9, 9, 9, 9, 9,\n",
      "        9, 9, 9, 9])\n"
     ]
    },
    {
     "data": {
      "text/plain": [
       "tensor([[[[0.]],\n",
       "\n",
       "         [[1.]],\n",
       "\n",
       "         [[0.]],\n",
       "\n",
       "         [[0.]],\n",
       "\n",
       "         [[0.]],\n",
       "\n",
       "         [[0.]],\n",
       "\n",
       "         [[0.]],\n",
       "\n",
       "         [[0.]],\n",
       "\n",
       "         [[0.]],\n",
       "\n",
       "         [[0.]]],\n",
       "\n",
       "\n",
       "        [[[0.]],\n",
       "\n",
       "         [[1.]],\n",
       "\n",
       "         [[0.]],\n",
       "\n",
       "         [[0.]],\n",
       "\n",
       "         [[0.]],\n",
       "\n",
       "         [[0.]],\n",
       "\n",
       "         [[0.]],\n",
       "\n",
       "         [[0.]],\n",
       "\n",
       "         [[0.]],\n",
       "\n",
       "         [[0.]]]], device='cuda:0')"
      ]
     },
     "execution_count": 38,
     "metadata": {},
     "output_type": "execute_result"
    }
   ],
   "source": [
    "device = torch.device('cuda:0' if torch.cuda.is_available() else 'cpu')\n",
    "\n",
    "label_one_hot = torch.zeros(10, 10)\n",
    "for i in range(10):\n",
    "    label_one_hot[i][i] = 1\n",
    "label_one_hot = label_one_hot.view(10, 10, 1, 1).to(device)\n",
    "\n",
    "label_fills = torch.zeros(10, 10, 32, 32)\n",
    "ones = torch.ones(32, 32)\n",
    "for i in range(10):\n",
    "    label_fills[i][i] = ones\n",
    "label_fills = label_fills.to(device)\n",
    "\n",
    "fixed_noise = torch.randn(100, 100, 1, 1).to(device)\n",
    "fixed_label = label_one_hot[torch.arange(10).repeat(10).sort().values]\n",
    "print(torch.arange(10).repeat(10).sort().values)\n",
    "label_one_hot[torch.tensor([1, 1])]\n"
   ]
  },
  {
   "cell_type": "code",
   "execution_count": 8,
   "metadata": {},
   "outputs": [
    {
     "name": "stdout",
     "output_type": "stream",
     "text": [
      "torch.Size([100])\n",
      "torch.Size([100])\n",
      "torch.Size([100])\n",
      "torch.Size([100])\n",
      "torch.Size([100])\n",
      "torch.Size([100])\n",
      "torch.Size([100])\n",
      "torch.Size([100])\n",
      "torch.Size([100])\n",
      "torch.Size([100])\n",
      "torch.Size([100])\n",
      "torch.Size([100])\n",
      "torch.Size([100])\n",
      "torch.Size([100])\n",
      "torch.Size([100])\n",
      "torch.Size([100])\n",
      "torch.Size([100])\n",
      "torch.Size([100])\n",
      "torch.Size([100])\n",
      "torch.Size([100])\n",
      "torch.Size([100])\n"
     ]
    }
   ],
   "source": [
    "from data_loader import get_minst_loader\n",
    "\n",
    "dataset, dataloader = get_minst_loader() \n",
    "for i, data in enumerate(dataloader):\n",
    "    print(data[1].shape)\n",
    "    if i==20:\n",
    "        break"
   ]
  }
 ],
 "metadata": {
  "kernelspec": {
   "display_name": "prediction",
   "language": "python",
   "name": "python3"
  },
  "language_info": {
   "codemirror_mode": {
    "name": "ipython",
    "version": 3
   },
   "file_extension": ".py",
   "mimetype": "text/x-python",
   "name": "python",
   "nbconvert_exporter": "python",
   "pygments_lexer": "ipython3",
   "version": "3.9.19"
  }
 },
 "nbformat": 4,
 "nbformat_minor": 2
}
